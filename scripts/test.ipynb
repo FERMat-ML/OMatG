{
 "cells": [
  {
   "cell_type": "code",
   "execution_count": 1,
   "metadata": {},
   "outputs": [],
   "source": [
    "from omg.datamodule import DataModule\n",
    "from omg.datamodule.dataloader import OMGTorchDataset\n",
    "from torch_geometric.loader import DataLoader"
   ]
  },
  {
   "cell_type": "code",
   "execution_count": 2,
   "metadata": {},
   "outputs": [],
   "source": [
    "import torch"
   ]
  },
  {
   "cell_type": "code",
   "execution_count": 3,
   "metadata": {},
   "outputs": [
    {
     "name": "stderr",
     "output_type": "stream",
     "text": [
      "\u001b[32m2024-09-25 19:33:13.842\u001b[0m | \u001b[1mINFO    \u001b[0m | \u001b[36momg.datamodule.datamodule\u001b[0m:\u001b[36madd_from_lmdb\u001b[0m:\u001b[36m844\u001b[0m - \u001b[1mCreating new LMDB file: dataset_274518dcfedeeb30399261097eb4fcb7.lmdb\u001b[0m\n"
     ]
    },
    {
     "name": "stdout",
     "output_type": "stream",
     "text": [
      "Adding 27136 configurations to LMDB from ./../data/mp_20/train.lmdb\n"
     ]
    },
    {
     "name": "stderr",
     "output_type": "stream",
     "text": [
      "  0%|          | 0/27136 [00:00<?, ?it/s]"
     ]
    },
    {
     "name": "stderr",
     "output_type": "stream",
     "text": [
      "100%|██████████| 27136/27136 [00:00<00:00, 378178.61it/s]\n"
     ]
    }
   ],
   "source": [
    "dataset = DataModule.from_lmdb([\"./../data/mp_20/train.lmdb\"])\n",
    "\n",
    "example_data = OMGTorchDataset(dataset, convert_to_fractional=True)\n",
    "\n",
    "loader = DataLoader(example_data, batch_size=10)"
   ]
  },
  {
   "cell_type": "code",
   "execution_count": 4,
   "metadata": {},
   "outputs": [
    {
     "name": "stdout",
     "output_type": "stream",
     "text": [
      "tensor([0.9325]) OMGDataBatch(\n",
      "  n_atoms=[10],\n",
      "  batch=[90],\n",
      "  species=[90],\n",
      "  cell=[10, 3, 3],\n",
      "  pos=[90, 3],\n",
      "  property={},\n",
      "  ptr=[11]\n",
      ")\n"
     ]
    }
   ],
   "source": [
    "for batch in loader:\n",
    "    t = torch.rand(1)\n",
    "    print(t,batch)\n",
    "    break   "
   ]
  },
  {
   "cell_type": "code",
   "execution_count": 5,
   "metadata": {},
   "outputs": [
    {
     "data": {
      "text/plain": [
       "tensor([[ 6.6651e-01,  1.7850e-03,  3.3302e-01],\n",
       "        [ 1.2300e-04,  9.9972e-01,  2.4600e-04],\n",
       "        [ 3.3203e-01,  9.9566e-01,  6.6405e-01],\n",
       "        [ 4.9982e-01,  5.0073e-01,  9.9965e-01],\n",
       "        [ 1.7374e-01,  4.9349e-01,  3.4747e-01],\n",
       "        [ 8.3296e-01,  5.0580e-01,  6.6593e-01],\n",
       "        [ 7.2317e-02,  6.9008e-01,  1.4463e-01],\n",
       "        [ 4.1868e-01,  6.9828e-01,  8.3736e-01],\n",
       "        [ 7.4120e-01,  7.1082e-01,  4.8239e-01],\n",
       "        [ 9.2925e-01,  3.0547e-01,  8.5849e-01],\n",
       "        [ 2.4877e-01,  2.9142e-01,  4.9754e-01],\n",
       "        [ 5.8461e-01,  3.0673e-01,  1.6922e-01],\n",
       "        [ 0.0000e+00,  0.0000e+00,  0.0000e+00],\n",
       "        [ 7.2122e-01,  7.7878e-01,  7.7878e-01],\n",
       "        [ 5.0000e-01,  2.2122e-01,  7.7878e-01],\n",
       "        [ 3.4894e-01,  6.5106e-01,  6.5106e-01],\n",
       "        [ 2.7756e-17,  3.4894e-01,  6.5106e-01],\n",
       "        [ 5.5511e-17,  6.5106e-01,  3.4894e-01],\n",
       "        [ 6.5106e-01,  3.4894e-01,  3.4894e-01],\n",
       "        [ 2.7878e-01,  2.2122e-01,  2.2122e-01],\n",
       "        [ 5.0000e-01,  7.7878e-01,  2.2122e-01],\n",
       "        [ 5.0000e-01,  5.0000e-01, -2.7756e-17],\n",
       "        [ 5.5511e-17,  5.0000e-01,  1.3878e-17],\n",
       "        [ 0.0000e+00,  1.0000e+00,  5.0000e-01],\n",
       "        [ 5.0000e-01,  1.0000e+00,  5.0000e-01],\n",
       "        [ 9.8954e-01,  4.6250e-03,  8.8610e-03],\n",
       "        [ 2.1172e-01,  3.8728e-01,  2.0673e-01],\n",
       "        [ 3.9452e-01,  8.1573e-01,  3.9599e-01],\n",
       "        [ 5.9838e-01,  1.9376e-01,  5.9021e-01],\n",
       "        [ 9.4058e-01,  8.7844e-01,  7.0386e-01],\n",
       "        [ 1.3176e-01,  3.2386e-01,  8.9444e-01],\n",
       "        [ 3.8087e-01,  6.8999e-01,  8.1292e-02],\n",
       "        [ 7.4889e-01,  5.0827e-01,  5.2041e-01],\n",
       "        [ 5.5374e-01,  9.8035e-02,  2.9820e-01],\n",
       "        [ 0.0000e+00,  0.0000e+00,  0.0000e+00],\n",
       "        [ 6.0107e-01,  6.0107e-01,  1.9680e-01],\n",
       "        [ 1.9981e-01,  1.9981e-01,  4.0057e-01],\n",
       "        [ 8.0019e-01,  8.0019e-01,  5.9943e-01],\n",
       "        [ 3.9893e-01,  3.9893e-01,  8.0320e-01],\n",
       "        [ 2.4985e-01,  7.7175e-01,  6.2053e-01],\n",
       "        [ 4.7810e-01,  2.2825e-01,  3.7947e-01],\n",
       "        [ 7.8365e-01,  7.6193e-01,  1.2967e-01],\n",
       "        [ 2.1723e-02,  2.3807e-01,  8.7033e-01],\n",
       "        [ 2.9473e-01,  1.1102e-16,  5.0000e-01],\n",
       "        [ 1.6029e-01,  1.6582e-02,  7.9213e-01],\n",
       "        [ 1.4371e-01,  9.8342e-01,  2.0787e-01],\n",
       "        [ 6.6591e-01,  9.9309e-01,  2.9411e-01],\n",
       "        [ 6.7282e-01,  6.9090e-03,  7.0589e-01],\n",
       "        [ 2.2071e-01,  5.1778e-01,  7.5071e-01],\n",
       "        [ 8.2787e-01,  5.0112e-01,  5.4638e-01],\n",
       "        [ 8.3175e-01,  4.9302e-01,  9.5162e-01],\n",
       "        [ 7.0293e-01,  4.8222e-01,  2.4929e-01],\n",
       "        [ 7.8046e-01,  1.1102e-16,  2.7756e-17],\n",
       "        [ 3.3873e-01,  5.0698e-01,  4.8376e-02],\n",
       "        [ 3.2676e-01,  4.9888e-01,  4.5362e-01],\n",
       "        [ 5.0000e-01,  5.0000e-01,  5.0000e-01],\n",
       "        [ 0.0000e+00,  0.0000e+00,  0.0000e+00],\n",
       "        [ 6.3271e-01,  6.3271e-01,  2.6542e-01],\n",
       "        [ 3.6729e-01,  3.6729e-01,  7.3458e-01],\n",
       "        [ 0.0000e+00,  0.0000e+00,  0.0000e+00],\n",
       "        [ 5.0000e-01,  5.0000e-01,  5.0000e-01],\n",
       "        [ 2.5000e-01,  2.5000e-01,  2.5000e-01],\n",
       "        [ 7.5000e-01,  7.5000e-01,  7.5000e-01],\n",
       "        [ 0.0000e+00,  0.0000e+00,  0.0000e+00],\n",
       "        [ 2.2190e-01,  7.7810e-01,  2.2190e-01],\n",
       "        [ 2.2190e-01,  2.2189e-01,  7.7810e-01],\n",
       "        [ 7.7811e-01,  2.2190e-01,  7.7811e-01],\n",
       "        [ 2.2189e-01,  7.7811e-01,  7.7811e-01],\n",
       "        [ 7.7811e-01,  2.2190e-01,  2.2190e-01],\n",
       "        [ 7.7811e-01,  7.7811e-01,  2.2190e-01],\n",
       "        [ 0.0000e+00,  0.0000e+00,  0.0000e+00],\n",
       "        [ 5.0000e-01,  5.0000e-01,  5.0000e-01],\n",
       "        [-2.4652e-32,  6.5723e-01,  3.4277e-01],\n",
       "        [-1.2326e-32,  3.4277e-01,  6.5723e-01],\n",
       "        [ 5.0000e-01,  0.0000e+00,  5.0000e-01],\n",
       "        [ 5.0000e-01,  5.0000e-01,  0.0000e+00],\n",
       "        [ 6.6667e-01,  3.3333e-01,  2.9749e-01],\n",
       "        [ 3.3333e-01,  6.6667e-01,  7.0251e-01],\n",
       "        [ 0.0000e+00,  0.0000e+00,  0.0000e+00],\n",
       "        [ 0.0000e+00,  0.0000e+00,  5.0000e-01],\n",
       "        [ 6.6667e-01,  3.3333e-01,  7.4599e-01],\n",
       "        [ 3.3333e-01,  6.6667e-01,  2.5401e-01],\n",
       "        [ 6.6667e-01,  3.3333e-01,  9.6192e-01],\n",
       "        [ 3.3333e-01,  6.6667e-01,  3.8083e-02],\n",
       "        [ 8.2739e-01,  6.5479e-01,  6.7002e-01],\n",
       "        [ 1.7261e-01,  3.4521e-01,  3.2998e-01],\n",
       "        [ 8.2739e-01,  1.7261e-01,  6.7002e-01],\n",
       "        [ 1.7261e-01,  8.2740e-01,  3.2998e-01],\n",
       "        [ 3.4521e-01,  1.7261e-01,  6.7002e-01],\n",
       "        [ 6.5479e-01,  8.2739e-01,  3.2998e-01]], dtype=torch.float64)"
      ]
     },
     "execution_count": 5,
     "metadata": {},
     "output_type": "execute_result"
    }
   ],
   "source": [
    "batch.pos"
   ]
  },
  {
   "cell_type": "code",
   "execution_count": 5,
   "metadata": {},
   "outputs": [
    {
     "data": {
      "text/plain": [
       "tensor([[0.7945],\n",
       "        [0.7945],\n",
       "        [0.7945],\n",
       "        [0.7945],\n",
       "        [0.7945],\n",
       "        [0.7945],\n",
       "        [0.7945],\n",
       "        [0.7945],\n",
       "        [0.7945],\n",
       "        [0.7945]])"
      ]
     },
     "execution_count": 5,
     "metadata": {},
     "output_type": "execute_result"
    }
   ],
   "source": [
    "t = t.repeat(10,1)\n",
    "t"
   ]
  },
  {
   "cell_type": "code",
   "execution_count": 6,
   "metadata": {},
   "outputs": [
    {
     "data": {
      "text/plain": [
       "torch.float32"
      ]
     },
     "execution_count": 6,
     "metadata": {},
     "output_type": "execute_result"
    }
   ],
   "source": [
    "t.dtype"
   ]
  },
  {
   "cell_type": "code",
   "execution_count": 7,
   "metadata": {},
   "outputs": [],
   "source": [
    "batch.cell = batch.cell.reshape(10,3,3)\n"
   ]
  },
  {
   "cell_type": "code",
   "execution_count": 8,
   "metadata": {},
   "outputs": [
    {
     "data": {
      "text/plain": [
       "torch.Size([10, 3, 3])"
      ]
     },
     "execution_count": 8,
     "metadata": {},
     "output_type": "execute_result"
    }
   ],
   "source": [
    "batch.cell.shape"
   ]
  },
  {
   "cell_type": "code",
   "execution_count": 9,
   "metadata": {},
   "outputs": [],
   "source": [
    "#batch.pos = torch.matmul(batch.pos, torch.inverse(batch.cell))"
   ]
  },
  {
   "cell_type": "code",
   "execution_count": 10,
   "metadata": {},
   "outputs": [
    {
     "name": "stderr",
     "output_type": "stream",
     "text": [
      "/home/pawanprakash/miniconda3/envs/fermat/lib/python3.12/site-packages/tqdm/auto.py:21: TqdmWarning: IProgress not found. Please update jupyter and ipywidgets. See https://ipywidgets.readthedocs.io/en/stable/user_install.html\n",
      "  from .autonotebook import tqdm as notebook_tqdm\n"
     ]
    }
   ],
   "source": [
    "from omg.model.encoders.cspnet_full import CSPNet_Full"
   ]
  },
  {
   "cell_type": "code",
   "execution_count": 11,
   "metadata": {},
   "outputs": [],
   "source": [
    "model = CSPNet_Full(latent_dim=1)\n",
    "model = model.double()"
   ]
  },
  {
   "cell_type": "code",
   "execution_count": 12,
   "metadata": {},
   "outputs": [
    {
     "name": "stdout",
     "output_type": "stream",
     "text": [
      "torch.Size([10, 3, 3])\n",
      "torch.Size([10, 3, 3])\n",
      "torch.Size([10, 3, 3])\n",
      "here\n"
     ]
    }
   ],
   "source": [
    "md = model(batch,t = t)"
   ]
  },
  {
   "cell_type": "code",
   "execution_count": 15,
   "metadata": {},
   "outputs": [
    {
     "data": {
      "text/plain": [
       "Data(species_b=[90, 100], species_eta=[90, 100], pos_b=[90, 3], pos_eta=[90, 3], cell_b=[10, 3, 3], cell_eta=[10, 3, 3])"
      ]
     },
     "execution_count": 15,
     "metadata": {},
     "output_type": "execute_result"
    }
   ],
   "source": [
    "md\n"
   ]
  },
  {
   "cell_type": "code",
   "execution_count": 22,
   "metadata": {},
   "outputs": [
    {
     "data": {
      "text/plain": [
       "tensor([11, 11, 11, 25, 27, 28,  8,  8,  8,  8,  8,  8, 60, 13, 13, 13, 13, 13,\n",
       "        13, 13, 13, 29, 29, 29, 29, 48, 49, 49, 49, 52, 52, 52, 52, 33, 44, 45,\n",
       "        45, 45, 45, 23, 23, 23, 23,  8,  8,  8,  9,  9,  9,  9,  9,  9,  9,  9,\n",
       "         9, 70, 50, 56, 56, 48, 55, 37, 37, 69, 17, 17, 17, 17, 17, 17, 67, 14,\n",
       "        28, 28, 28, 28, 19, 19, 37, 69, 23, 23,  8,  8,  8,  8,  8,  8,  8,  8])"
      ]
     },
     "execution_count": 22,
     "metadata": {},
     "output_type": "execute_result"
    }
   ],
   "source": [
    "batch.species"
   ]
  },
  {
   "cell_type": "code",
   "execution_count": 17,
   "metadata": {},
   "outputs": [
    {
     "data": {
      "text/plain": [
       "tensor([[-0.8398,  0.7658, -0.7543,  ...,  0.4989,  0.2560,  0.4430],\n",
       "        [-0.8380,  0.7662, -0.7498,  ...,  0.4955,  0.2609,  0.4403],\n",
       "        [-0.8330,  0.7642, -0.7513,  ...,  0.4981,  0.2632,  0.4423],\n",
       "        ...,\n",
       "        [-0.5885,  0.2447, -0.9283,  ..., -0.9191, -0.6786,  1.5135],\n",
       "        [-0.5950,  0.2425, -0.9271,  ..., -0.9158, -0.6754,  1.5115],\n",
       "        [-0.5896,  0.2458, -0.9260,  ..., -0.9212, -0.6766,  1.5143]],\n",
       "       dtype=torch.float64, grad_fn=<AddmmBackward0>)"
      ]
     },
     "execution_count": 17,
     "metadata": {},
     "output_type": "execute_result"
    }
   ],
   "source": [
    "md.species_b"
   ]
  },
  {
   "cell_type": "code",
   "execution_count": null,
   "metadata": {},
   "outputs": [],
   "source": []
  }
 ],
 "metadata": {
  "kernelspec": {
   "display_name": "fermat",
   "language": "python",
   "name": "python3"
  },
  "language_info": {
   "codemirror_mode": {
    "name": "ipython",
    "version": 3
   },
   "file_extension": ".py",
   "mimetype": "text/x-python",
   "name": "python",
   "nbconvert_exporter": "python",
   "pygments_lexer": "ipython3",
   "version": "3.12.2"
  }
 },
 "nbformat": 4,
 "nbformat_minor": 2
}
