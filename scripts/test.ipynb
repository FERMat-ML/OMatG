{
 "cells": [
  {
   "cell_type": "code",
   "execution_count": 1,
   "metadata": {},
   "outputs": [],
   "source": [
    "from omg.datamodule import DataModule\n",
    "from omg.datamodule.dataloader import OMGTorchDataset\n",
    "from torch_geometric.loader import DataLoader\n",
    "import torch\n",
    "from omg.model.model_utils import SinusoidalTimeEmbeddings"
   ]
  },
  {
   "cell_type": "code",
   "execution_count": 2,
   "metadata": {},
   "outputs": [
    {
     "name": "stderr",
     "output_type": "stream",
     "text": [
      "\u001b[32m2024-09-27 13:17:03.654\u001b[0m | \u001b[1mINFO    \u001b[0m | \u001b[36momg.datamodule.datamodule\u001b[0m:\u001b[36madd_from_lmdb\u001b[0m:\u001b[36m832\u001b[0m - \u001b[1mReusing existing LMDB file: dataset_274518dcfedeeb30399261097eb4fcb7.lmdb\u001b[0m\n"
     ]
    }
   ],
   "source": [
    "dataset = DataModule(\"./../data/mp_20/train.lmdb\", property_keys=[\"band_gap\",])\n",
    "\n",
    "example_data = OMGTorchDataset(dataset, convert_to_fractional=True)\n",
    "\n",
    "loader = DataLoader(example_data, batch_size=2)"
   ]
  },
  {
   "cell_type": "code",
   "execution_count": 3,
   "metadata": {},
   "outputs": [
    {
     "name": "stderr",
     "output_type": "stream",
     "text": [
      "/home/pawanprakash/miniconda3/envs/fermat/lib/python3.12/site-packages/torch/storage.py:414: FutureWarning: You are using `torch.load` with `weights_only=False` (the current default value), which uses the default pickle module implicitly. It is possible to construct malicious pickle data which will execute arbitrary code during unpickling (See https://github.com/pytorch/pytorch/blob/main/SECURITY.md#untrusted-models for more details). In a future release, the default value for `weights_only` will be flipped to `True`. This limits the functions that could be executed during unpickling. Arbitrary objects will no longer be allowed to be loaded via this mode unless they are explicitly allowlisted by the user via `torch.serialization.add_safe_globals`. We recommend you start setting `weights_only=True` for any use case where you don't have full control of the loaded file. Please open an issue on GitHub for any issues related to this experimental feature.\n",
      "  return torch.load(io.BytesIO(b))\n"
     ]
    },
    {
     "name": "stdout",
     "output_type": "stream",
     "text": [
      "tensor([0.2341]) OMGDataBatch(\n",
      "  n_atoms=[2],\n",
      "  batch=[25],\n",
      "  species=[25],\n",
      "  cell=[2, 3, 3],\n",
      "  pos=[25, 3],\n",
      "  property={ band_gap=[2] },\n",
      "  ptr=[3]\n",
      ")\n"
     ]
    }
   ],
   "source": [
    "for batch in loader:\n",
    "    t = torch.rand(1)\n",
    "    print(t,batch)\n",
    "    break   "
   ]
  },
  {
   "cell_type": "code",
   "execution_count": 4,
   "metadata": {},
   "outputs": [],
   "source": [
    "if bool(batch.property) == True:\n",
    "    # Extract the first key-value pair dynamically\n",
    "    key = list(batch.property.keys())[0]\n",
    "    prop = batch.property[key]\n",
    "else:\n",
    "    prop = None # or prop = None is redundent here"
   ]
  },
  {
   "cell_type": "code",
   "execution_count": 5,
   "metadata": {},
   "outputs": [
    {
     "name": "stdout",
     "output_type": "stream",
     "text": [
      "torch.float32 tensor([0.2133, 0.0000])\n"
     ]
    }
   ],
   "source": [
    "print(prop.dtype, prop)"
   ]
  },
  {
   "cell_type": "code",
   "execution_count": 6,
   "metadata": {},
   "outputs": [
    {
     "data": {
      "text/plain": [
       "True"
      ]
     },
     "execution_count": 6,
     "metadata": {},
     "output_type": "execute_result"
    }
   ],
   "source": [
    "bool(batch.property)"
   ]
  },
  {
   "cell_type": "code",
   "execution_count": 7,
   "metadata": {},
   "outputs": [
    {
     "data": {
      "text/plain": [
       "torch.float64"
      ]
     },
     "execution_count": 7,
     "metadata": {},
     "output_type": "execute_result"
    }
   ],
   "source": [
    "prop = prop.double() # prop has to be same dtype as model\n",
    "prop.dtype"
   ]
  },
  {
   "cell_type": "code",
   "execution_count": 8,
   "metadata": {},
   "outputs": [],
   "source": [
    "prop_embd = SinusoidalTimeEmbeddings(32)\n",
    "time_embd = SinusoidalTimeEmbeddings(64)"
   ]
  },
  {
   "cell_type": "code",
   "execution_count": 9,
   "metadata": {},
   "outputs": [],
   "source": [
    "prop = prop_embd(prop)"
   ]
  },
  {
   "cell_type": "code",
   "execution_count": 10,
   "metadata": {},
   "outputs": [
    {
     "data": {
      "text/plain": [
       "torch.Size([2, 32])"
      ]
     },
     "execution_count": 10,
     "metadata": {},
     "output_type": "execute_result"
    }
   ],
   "source": [
    "prop.shape"
   ]
  },
  {
   "cell_type": "code",
   "execution_count": 11,
   "metadata": {},
   "outputs": [
    {
     "data": {
      "text/plain": [
       "torch.float32"
      ]
     },
     "execution_count": 11,
     "metadata": {},
     "output_type": "execute_result"
    }
   ],
   "source": [
    "t = t.repeat(2)\n",
    "t.dtype"
   ]
  },
  {
   "cell_type": "code",
   "execution_count": 12,
   "metadata": {},
   "outputs": [
    {
     "data": {
      "text/plain": [
       "torch.Size([2, 64])"
      ]
     },
     "execution_count": 12,
     "metadata": {},
     "output_type": "execute_result"
    }
   ],
   "source": [
    "t = time_embd(t)\n",
    "t.shape"
   ]
  },
  {
   "cell_type": "code",
   "execution_count": 13,
   "metadata": {},
   "outputs": [
    {
     "name": "stderr",
     "output_type": "stream",
     "text": [
      "/home/pawanprakash/miniconda3/envs/fermat/lib/python3.12/site-packages/tqdm/auto.py:21: TqdmWarning: IProgress not found. Please update jupyter and ipywidgets. See https://ipywidgets.readthedocs.io/en/stable/user_install.html\n",
      "  from .autonotebook import tqdm as notebook_tqdm\n"
     ]
    }
   ],
   "source": [
    "from omg.model.encoders.cspnet_full import CSPNetFull"
   ]
  },
  {
   "cell_type": "code",
   "execution_count": 14,
   "metadata": {},
   "outputs": [],
   "source": [
    "model = CSPNetFull(latent_dim=64)\n",
    "model = model.double()"
   ]
  },
  {
   "cell_type": "code",
   "execution_count": 15,
   "metadata": {},
   "outputs": [
    {
     "name": "stdout",
     "output_type": "stream",
     "text": [
      "prop_indicator device:  cpu\n",
      " prop size:  torch.Size([2, 32])\n",
      " prop_indicator size:  torch.Size([2])\n",
      " node_features size:  torch.Size([25, 128])\n",
      "property_indicator size:  torch.Size([2])\n",
      "repeated_result size:  torch.Size([25, 128])\n",
      "num atoms:  tensor([12, 13])\n",
      "H_prime_L device:  cpu\n",
      "H_L device:  cpu\n",
      "repeated_result device:  cpu\n",
      "property is here\n",
      "property_indicator size:  torch.Size([2])\n",
      "repeated_result size:  torch.Size([25, 128])\n",
      "num atoms:  tensor([12, 13])\n",
      "H_prime_L device:  cpu\n",
      "H_L device:  cpu\n",
      "repeated_result device:  cpu\n",
      "property is here\n",
      "property_indicator size:  torch.Size([2])\n",
      "repeated_result size:  torch.Size([25, 128])\n",
      "num atoms:  tensor([12, 13])\n",
      "H_prime_L device:  cpu\n",
      "H_L device:  cpu\n",
      "repeated_result device:  cpu\n",
      "property is here\n",
      "property_indicator size:  torch.Size([2])\n",
      "repeated_result size:  torch.Size([25, 128])\n",
      "num atoms:  tensor([12, 13])\n",
      "H_prime_L device:  cpu\n",
      "H_L device:  cpu\n",
      "repeated_result device:  cpu\n",
      "property is here\n"
     ]
    }
   ],
   "source": [
    "md = model(batch,t = t, prop = prop)"
   ]
  },
  {
   "cell_type": "code",
   "execution_count": 16,
   "metadata": {},
   "outputs": [
    {
     "data": {
      "text/plain": [
       "Data(species_b=[25, 100], species_eta=[25, 100], pos_b=[25, 3], pos_eta=[25, 3], cell_b=[2, 3, 3], cell_eta=[2, 3, 3])"
      ]
     },
     "execution_count": 16,
     "metadata": {},
     "output_type": "execute_result"
    }
   ],
   "source": [
    "md\n"
   ]
  },
  {
   "cell_type": "code",
   "execution_count": 17,
   "metadata": {},
   "outputs": [
    {
     "data": {
      "text/plain": [
       "tensor([11, 11, 11, 25, 27, 28,  8,  8,  8,  8,  8,  8, 60, 13, 13, 13, 13, 13,\n",
       "        13, 13, 13, 29, 29, 29, 29])"
      ]
     },
     "execution_count": 17,
     "metadata": {},
     "output_type": "execute_result"
    }
   ],
   "source": [
    "batch.species"
   ]
  },
  {
   "cell_type": "code",
   "execution_count": 18,
   "metadata": {},
   "outputs": [
    {
     "data": {
      "text/plain": [
       "tensor([[-0.1664,  0.0388, -0.5163,  ...,  0.3697,  0.8196, -0.1125],\n",
       "        [-0.1646,  0.0390, -0.5189,  ...,  0.3694,  0.8241, -0.1150],\n",
       "        [-0.1691,  0.0407, -0.5229,  ...,  0.3749,  0.8227, -0.1175],\n",
       "        ...,\n",
       "        [-1.0505, -0.2526, -0.0396,  ...,  1.0655,  0.6672,  0.3239],\n",
       "        [-1.0544, -0.2551, -0.0410,  ...,  1.0646,  0.6673,  0.3287],\n",
       "        [-1.0542, -0.2540, -0.0441,  ...,  1.0664,  0.6668,  0.3283]],\n",
       "       dtype=torch.float64, grad_fn=<AddmmBackward0>)"
      ]
     },
     "execution_count": 18,
     "metadata": {},
     "output_type": "execute_result"
    }
   ],
   "source": [
    "md.species_b"
   ]
  },
  {
   "cell_type": "markdown",
   "metadata": {},
   "source": []
  }
 ],
 "metadata": {
  "kernelspec": {
   "display_name": "fermat",
   "language": "python",
   "name": "python3"
  },
  "language_info": {
   "codemirror_mode": {
    "name": "ipython",
    "version": 3
   },
   "file_extension": ".py",
   "mimetype": "text/x-python",
   "name": "python",
   "nbconvert_exporter": "python",
   "pygments_lexer": "ipython3",
   "version": "3.12.2"
  }
 },
 "nbformat": 4,
 "nbformat_minor": 2
}
