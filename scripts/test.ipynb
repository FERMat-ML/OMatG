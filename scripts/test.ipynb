{
 "cells": [
  {
   "cell_type": "code",
   "execution_count": 1,
   "metadata": {},
   "outputs": [],
   "source": [
    "from omg.datamodule import DataModule\n",
    "from omg.datamodule.dataloader import OMGTorchDataset\n",
    "from torch_geometric.loader import DataLoader"
   ]
  },
  {
   "cell_type": "code",
   "execution_count": 2,
   "metadata": {},
   "outputs": [],
   "source": [
    "import torch"
   ]
  },
  {
   "cell_type": "code",
   "execution_count": 3,
   "metadata": {},
   "outputs": [
    {
     "name": "stderr",
     "output_type": "stream",
     "text": [
      "\u001b[32m2024-09-25 19:11:11.924\u001b[0m | \u001b[1mINFO    \u001b[0m | \u001b[36momg.datamodule.datamodule\u001b[0m:\u001b[36madd_from_lmdb\u001b[0m:\u001b[36m803\u001b[0m - \u001b[1mReusing existing LMDB file: dataset_274518dcfedeeb30399261097eb4fcb7.lmdb\u001b[0m\n"
     ]
    }
   ],
   "source": [
    "dataset = DataModule.from_lmdb([\"./../data/mp_20/train.lmdb\"])\n",
    "\n",
    "example_data = OMGTorchDataset(dataset)\n",
    "\n",
    "loader = DataLoader(example_data, batch_size=10)"
   ]
  },
  {
   "cell_type": "code",
   "execution_count": 4,
   "metadata": {},
   "outputs": [
    {
     "name": "stdout",
     "output_type": "stream",
     "text": [
      "tensor([0.7945]) OMGDataBatch(n_atoms=[10], batch=[90], species=[90], cell=[30, 3], pos=[90, 3], ptr=[11])\n"
     ]
    }
   ],
   "source": [
    "for batch in loader:\n",
    "    t = torch.rand(1)\n",
    "    print(t,batch)\n",
    "    break   "
   ]
  },
  {
   "cell_type": "code",
   "execution_count": 5,
   "metadata": {},
   "outputs": [
    {
     "data": {
      "text/plain": [
       "tensor([[0.7945],\n",
       "        [0.7945],\n",
       "        [0.7945],\n",
       "        [0.7945],\n",
       "        [0.7945],\n",
       "        [0.7945],\n",
       "        [0.7945],\n",
       "        [0.7945],\n",
       "        [0.7945],\n",
       "        [0.7945]])"
      ]
     },
     "execution_count": 5,
     "metadata": {},
     "output_type": "execute_result"
    }
   ],
   "source": [
    "t = t.repeat(10,1)\n",
    "t"
   ]
  },
  {
   "cell_type": "code",
   "execution_count": 6,
   "metadata": {},
   "outputs": [
    {
     "data": {
      "text/plain": [
       "torch.float32"
      ]
     },
     "execution_count": 6,
     "metadata": {},
     "output_type": "execute_result"
    }
   ],
   "source": [
    "t.dtype"
   ]
  },
  {
   "cell_type": "code",
   "execution_count": 7,
   "metadata": {},
   "outputs": [],
   "source": [
    "batch.cell = batch.cell.reshape(10,3,3)\n"
   ]
  },
  {
   "cell_type": "code",
   "execution_count": 8,
   "metadata": {},
   "outputs": [
    {
     "data": {
      "text/plain": [
       "torch.Size([10, 3, 3])"
      ]
     },
     "execution_count": 8,
     "metadata": {},
     "output_type": "execute_result"
    }
   ],
   "source": [
    "batch.cell.shape"
   ]
  },
  {
   "cell_type": "code",
   "execution_count": 9,
   "metadata": {},
   "outputs": [],
   "source": [
    "#batch.pos = torch.matmul(batch.pos, torch.inverse(batch.cell))"
   ]
  },
  {
   "cell_type": "code",
   "execution_count": 10,
   "metadata": {},
   "outputs": [
    {
     "name": "stderr",
     "output_type": "stream",
     "text": [
      "/home/pawanprakash/miniconda3/envs/fermat/lib/python3.12/site-packages/tqdm/auto.py:21: TqdmWarning: IProgress not found. Please update jupyter and ipywidgets. See https://ipywidgets.readthedocs.io/en/stable/user_install.html\n",
      "  from .autonotebook import tqdm as notebook_tqdm\n"
     ]
    }
   ],
   "source": [
    "from omg.model.encoders.cspnet_full import CSPNet_Full"
   ]
  },
  {
   "cell_type": "code",
   "execution_count": 11,
   "metadata": {},
   "outputs": [],
   "source": [
    "model = CSPNet_Full(latent_dim=1)\n",
    "model = model.double()"
   ]
  },
  {
   "cell_type": "code",
   "execution_count": 12,
   "metadata": {},
   "outputs": [
    {
     "name": "stdout",
     "output_type": "stream",
     "text": [
      "torch.Size([10, 3, 3])\n",
      "torch.Size([10, 3, 3])\n",
      "torch.Size([10, 3, 3])\n",
      "here\n"
     ]
    }
   ],
   "source": [
    "md = model(batch,t = t)"
   ]
  },
  {
   "cell_type": "code",
   "execution_count": 15,
   "metadata": {},
   "outputs": [
    {
     "data": {
      "text/plain": [
       "Data(species_b=[90, 100], species_eta=[90, 100], pos_b=[90, 3], pos_eta=[90, 3], cell_b=[10, 3, 3], cell_eta=[10, 3, 3])"
      ]
     },
     "execution_count": 15,
     "metadata": {},
     "output_type": "execute_result"
    }
   ],
   "source": [
    "md\n"
   ]
  },
  {
   "cell_type": "code",
   "execution_count": 22,
   "metadata": {},
   "outputs": [
    {
     "data": {
      "text/plain": [
       "tensor([11, 11, 11, 25, 27, 28,  8,  8,  8,  8,  8,  8, 60, 13, 13, 13, 13, 13,\n",
       "        13, 13, 13, 29, 29, 29, 29, 48, 49, 49, 49, 52, 52, 52, 52, 33, 44, 45,\n",
       "        45, 45, 45, 23, 23, 23, 23,  8,  8,  8,  9,  9,  9,  9,  9,  9,  9,  9,\n",
       "         9, 70, 50, 56, 56, 48, 55, 37, 37, 69, 17, 17, 17, 17, 17, 17, 67, 14,\n",
       "        28, 28, 28, 28, 19, 19, 37, 69, 23, 23,  8,  8,  8,  8,  8,  8,  8,  8])"
      ]
     },
     "execution_count": 22,
     "metadata": {},
     "output_type": "execute_result"
    }
   ],
   "source": [
    "batch.species"
   ]
  },
  {
   "cell_type": "code",
   "execution_count": 17,
   "metadata": {},
   "outputs": [
    {
     "data": {
      "text/plain": [
       "tensor([[-0.8398,  0.7658, -0.7543,  ...,  0.4989,  0.2560,  0.4430],\n",
       "        [-0.8380,  0.7662, -0.7498,  ...,  0.4955,  0.2609,  0.4403],\n",
       "        [-0.8330,  0.7642, -0.7513,  ...,  0.4981,  0.2632,  0.4423],\n",
       "        ...,\n",
       "        [-0.5885,  0.2447, -0.9283,  ..., -0.9191, -0.6786,  1.5135],\n",
       "        [-0.5950,  0.2425, -0.9271,  ..., -0.9158, -0.6754,  1.5115],\n",
       "        [-0.5896,  0.2458, -0.9260,  ..., -0.9212, -0.6766,  1.5143]],\n",
       "       dtype=torch.float64, grad_fn=<AddmmBackward0>)"
      ]
     },
     "execution_count": 17,
     "metadata": {},
     "output_type": "execute_result"
    }
   ],
   "source": [
    "md.species_b"
   ]
  },
  {
   "cell_type": "code",
   "execution_count": null,
   "metadata": {},
   "outputs": [],
   "source": []
  }
 ],
 "metadata": {
  "kernelspec": {
   "display_name": "fermat",
   "language": "python",
   "name": "python3"
  },
  "language_info": {
   "codemirror_mode": {
    "name": "ipython",
    "version": 3
   },
   "file_extension": ".py",
   "mimetype": "text/x-python",
   "name": "python",
   "nbconvert_exporter": "python",
   "pygments_lexer": "ipython3",
   "version": "3.12.2"
  }
 },
 "nbformat": 4,
 "nbformat_minor": 2
}
